{
 "cells": [
  {
   "cell_type": "markdown",
   "id": "f323a603",
   "metadata": {},
   "source": [
    "Conduct a series of exploratory operations on this Tree Dataset using pandas. Write a narrative explanation of how you are exploring the data as you do it using the Markdown functionality of Jupyter notebook.\n",
    "\n",
    "Things to explore:\n",
    "\n",
    "How many unique zipcodes are represented\n",
    "\n",
    "How many total trees are there\n",
    "\n",
    "What are the various formats for dimensions\n",
    "\n",
    "What are the different Site information options\n",
    "\n",
    "Which is more popular for the caretaker– Private or Department of Public Works?\n",
    "\n",
    "What missing data is there in this dataset? Which columns are impacted? How many rows in each column?"
   ]
  },
  {
   "cell_type": "code",
   "execution_count": 7,
   "id": "b9ef8e1f",
   "metadata": {},
   "outputs": [
    {
     "data": {
      "text/html": [
       "<div>\n",
       "<style scoped>\n",
       "    .dataframe tbody tr th:only-of-type {\n",
       "        vertical-align: middle;\n",
       "    }\n",
       "\n",
       "    .dataframe tbody tr th {\n",
       "        vertical-align: top;\n",
       "    }\n",
       "\n",
       "    .dataframe thead th {\n",
       "        text-align: right;\n",
       "    }\n",
       "</style>\n",
       "<table border=\"1\" class=\"dataframe\">\n",
       "  <thead>\n",
       "    <tr style=\"text-align: right;\">\n",
       "      <th></th>\n",
       "      <th>TreeID</th>\n",
       "      <th>qLegalStatus</th>\n",
       "      <th>qSpecies</th>\n",
       "      <th>qAddress</th>\n",
       "      <th>SiteOrder</th>\n",
       "      <th>qSiteInfo</th>\n",
       "      <th>PlantType</th>\n",
       "      <th>qCaretaker</th>\n",
       "      <th>qCareAssistant</th>\n",
       "      <th>PlantDate</th>\n",
       "      <th>...</th>\n",
       "      <th>XCoord</th>\n",
       "      <th>YCoord</th>\n",
       "      <th>Latitude</th>\n",
       "      <th>Longitude</th>\n",
       "      <th>Location</th>\n",
       "      <th>Fire Prevention Districts</th>\n",
       "      <th>Police Districts</th>\n",
       "      <th>Supervisor Districts</th>\n",
       "      <th>Zip Codes</th>\n",
       "      <th>Neighborhoods (old)</th>\n",
       "    </tr>\n",
       "  </thead>\n",
       "  <tbody>\n",
       "    <tr>\n",
       "      <th>0</th>\n",
       "      <td>48142</td>\n",
       "      <td>Permitted Site</td>\n",
       "      <td>Tree(s) ::</td>\n",
       "      <td>NaN</td>\n",
       "      <td>252.0</td>\n",
       "      <td>Sidewalk: Curb side : Cutout</td>\n",
       "      <td>Tree</td>\n",
       "      <td>Private</td>\n",
       "      <td>NaN</td>\n",
       "      <td>07/17/2002 12:00:00 AM</td>\n",
       "      <td>...</td>\n",
       "      <td>NaN</td>\n",
       "      <td>NaN</td>\n",
       "      <td>NaN</td>\n",
       "      <td>NaN</td>\n",
       "      <td>NaN</td>\n",
       "      <td>NaN</td>\n",
       "      <td>NaN</td>\n",
       "      <td>NaN</td>\n",
       "      <td>NaN</td>\n",
       "      <td>NaN</td>\n",
       "    </tr>\n",
       "    <tr>\n",
       "      <th>1</th>\n",
       "      <td>19725</td>\n",
       "      <td>DPW Maintained</td>\n",
       "      <td>Pinus Spp :: Pine Spp</td>\n",
       "      <td>100 STAIRWAY14</td>\n",
       "      <td>3.0</td>\n",
       "      <td>Sidewalk: Curb side : Cutout</td>\n",
       "      <td>Tree</td>\n",
       "      <td>DPW</td>\n",
       "      <td>NaN</td>\n",
       "      <td>NaN</td>\n",
       "      <td>...</td>\n",
       "      <td>NaN</td>\n",
       "      <td>NaN</td>\n",
       "      <td>NaN</td>\n",
       "      <td>NaN</td>\n",
       "      <td>NaN</td>\n",
       "      <td>NaN</td>\n",
       "      <td>NaN</td>\n",
       "      <td>NaN</td>\n",
       "      <td>NaN</td>\n",
       "      <td>NaN</td>\n",
       "    </tr>\n",
       "    <tr>\n",
       "      <th>2</th>\n",
       "      <td>121399</td>\n",
       "      <td>DPW Maintained</td>\n",
       "      <td>Corymbia ficifolia :: Red Flowering Gum</td>\n",
       "      <td>349X Cargo Way</td>\n",
       "      <td>1.0</td>\n",
       "      <td>Sidewalk: Curb side : Cutout</td>\n",
       "      <td>Tree</td>\n",
       "      <td>DPW</td>\n",
       "      <td>NaN</td>\n",
       "      <td>NaN</td>\n",
       "      <td>...</td>\n",
       "      <td>NaN</td>\n",
       "      <td>NaN</td>\n",
       "      <td>NaN</td>\n",
       "      <td>NaN</td>\n",
       "      <td>NaN</td>\n",
       "      <td>NaN</td>\n",
       "      <td>NaN</td>\n",
       "      <td>NaN</td>\n",
       "      <td>NaN</td>\n",
       "      <td>NaN</td>\n",
       "    </tr>\n",
       "    <tr>\n",
       "      <th>3</th>\n",
       "      <td>46536</td>\n",
       "      <td>Permitted Site</td>\n",
       "      <td>Tree(s) ::</td>\n",
       "      <td>73 Summer St</td>\n",
       "      <td>2.0</td>\n",
       "      <td>Sidewalk: Curb side : Cutout</td>\n",
       "      <td>Tree</td>\n",
       "      <td>Private</td>\n",
       "      <td>NaN</td>\n",
       "      <td>04/01/2002 12:00:00 AM</td>\n",
       "      <td>...</td>\n",
       "      <td>NaN</td>\n",
       "      <td>NaN</td>\n",
       "      <td>NaN</td>\n",
       "      <td>NaN</td>\n",
       "      <td>NaN</td>\n",
       "      <td>NaN</td>\n",
       "      <td>NaN</td>\n",
       "      <td>NaN</td>\n",
       "      <td>NaN</td>\n",
       "      <td>NaN</td>\n",
       "    </tr>\n",
       "    <tr>\n",
       "      <th>4</th>\n",
       "      <td>251210</td>\n",
       "      <td>DPW Maintained</td>\n",
       "      <td>Eucalyptus polyanthemos :: Silver Dollar Eucal...</td>\n",
       "      <td>1170 Ingalls St</td>\n",
       "      <td>2.0</td>\n",
       "      <td>Sidewalk: Curb side : Cutout</td>\n",
       "      <td>Tree</td>\n",
       "      <td>DPW</td>\n",
       "      <td>NaN</td>\n",
       "      <td>11/02/1992 12:00:00 AM</td>\n",
       "      <td>...</td>\n",
       "      <td>NaN</td>\n",
       "      <td>NaN</td>\n",
       "      <td>NaN</td>\n",
       "      <td>NaN</td>\n",
       "      <td>NaN</td>\n",
       "      <td>NaN</td>\n",
       "      <td>NaN</td>\n",
       "      <td>NaN</td>\n",
       "      <td>NaN</td>\n",
       "      <td>NaN</td>\n",
       "    </tr>\n",
       "  </tbody>\n",
       "</table>\n",
       "<p>5 rows × 23 columns</p>\n",
       "</div>"
      ],
      "text/plain": [
       "   TreeID    qLegalStatus                                           qSpecies  \\\n",
       "0   48142  Permitted Site                                         Tree(s) ::   \n",
       "1   19725  DPW Maintained                              Pinus Spp :: Pine Spp   \n",
       "2  121399  DPW Maintained            Corymbia ficifolia :: Red Flowering Gum   \n",
       "3   46536  Permitted Site                                         Tree(s) ::   \n",
       "4  251210  DPW Maintained  Eucalyptus polyanthemos :: Silver Dollar Eucal...   \n",
       "\n",
       "          qAddress  SiteOrder                     qSiteInfo PlantType  \\\n",
       "0              NaN      252.0  Sidewalk: Curb side : Cutout      Tree   \n",
       "1   100 STAIRWAY14        3.0  Sidewalk: Curb side : Cutout      Tree   \n",
       "2   349X Cargo Way        1.0  Sidewalk: Curb side : Cutout      Tree   \n",
       "3     73 Summer St        2.0  Sidewalk: Curb side : Cutout      Tree   \n",
       "4  1170 Ingalls St        2.0  Sidewalk: Curb side : Cutout      Tree   \n",
       "\n",
       "  qCaretaker qCareAssistant               PlantDate  ...  XCoord YCoord  \\\n",
       "0    Private            NaN  07/17/2002 12:00:00 AM  ...     NaN    NaN   \n",
       "1        DPW            NaN                     NaN  ...     NaN    NaN   \n",
       "2        DPW            NaN                     NaN  ...     NaN    NaN   \n",
       "3    Private            NaN  04/01/2002 12:00:00 AM  ...     NaN    NaN   \n",
       "4        DPW            NaN  11/02/1992 12:00:00 AM  ...     NaN    NaN   \n",
       "\n",
       "  Latitude  Longitude  Location  Fire Prevention Districts  Police Districts  \\\n",
       "0      NaN        NaN       NaN                        NaN               NaN   \n",
       "1      NaN        NaN       NaN                        NaN               NaN   \n",
       "2      NaN        NaN       NaN                        NaN               NaN   \n",
       "3      NaN        NaN       NaN                        NaN               NaN   \n",
       "4      NaN        NaN       NaN                        NaN               NaN   \n",
       "\n",
       "  Supervisor Districts  Zip Codes  Neighborhoods (old)  \n",
       "0                  NaN        NaN                  NaN  \n",
       "1                  NaN        NaN                  NaN  \n",
       "2                  NaN        NaN                  NaN  \n",
       "3                  NaN        NaN                  NaN  \n",
       "4                  NaN        NaN                  NaN  \n",
       "\n",
       "[5 rows x 23 columns]"
      ]
     },
     "execution_count": 7,
     "metadata": {},
     "output_type": "execute_result"
    }
   ],
   "source": [
    "import pandas as pd \n",
    "import numpy as np \n",
    "import matplotlib \n",
    "import notebook\n",
    "\n",
    "data = pd.read_csv(r'C:\\Users\\Lowkey\\Documents\\DevMountain\\Spec\\Week4\\Excerise\\jupyter-trees\\jupyter-trees\\Street_Tree_List.csv')\n",
    "data.head()"
   ]
  },
  {
   "cell_type": "markdown",
   "id": "b102906d",
   "metadata": {},
   "source": [
    "How Many Unique ZipCodes are represented"
   ]
  },
  {
   "cell_type": "code",
   "execution_count": 16,
   "id": "fdf00f96",
   "metadata": {},
   "outputs": [
    {
     "data": {
      "text/plain": [
       "TreeID                         int64\n",
       "qLegalStatus                  object\n",
       "qSpecies                      object\n",
       "qAddress                      object\n",
       "SiteOrder                    float64\n",
       "qSiteInfo                     object\n",
       "PlantType                     object\n",
       "qCaretaker                    object\n",
       "qCareAssistant                object\n",
       "PlantDate                     object\n",
       "DBH                          float64\n",
       "PlotSize                      object\n",
       "PermitNotes                   object\n",
       "XCoord                       float64\n",
       "YCoord                       float64\n",
       "Latitude                     float64\n",
       "Longitude                    float64\n",
       "Location                      object\n",
       "Fire Prevention Districts    float64\n",
       "Police Districts             float64\n",
       "Supervisor Districts         float64\n",
       "Zip Codes                    float64\n",
       "Neighborhoods (old)          float64\n",
       "dtype: object"
      ]
     },
     "execution_count": 16,
     "metadata": {},
     "output_type": "execute_result"
    }
   ],
   "source": [
    "data.dtypes"
   ]
  },
  {
   "cell_type": "code",
   "execution_count": 18,
   "id": "e657c177",
   "metadata": {},
   "outputs": [
    {
     "data": {
      "text/plain": [
       "30"
      ]
     },
     "execution_count": 18,
     "metadata": {},
     "output_type": "execute_result"
    }
   ],
   "source": [
    "data['Zip Code'].unique() #Shows the unique zip codes in array\n",
    "len(data['Zip Codes'].unique())"
   ]
  },
  {
   "cell_type": "markdown",
   "id": "70cceb30",
   "metadata": {},
   "source": [
    "How many total trees are there"
   ]
  },
  {
   "cell_type": "code",
   "execution_count": 38,
   "id": "b21b4147",
   "metadata": {},
   "outputs": [
    {
     "data": {
      "text/plain": [
       "Tree(s) ::                                                            11780\n",
       "Platanus x hispanica :: Sycamore: London Plane                        11697\n",
       "Metrosideros excelsa :: New Zealand Xmas Tree                          8833\n",
       "Lophostemon confertus :: Brisbane Box                                  8812\n",
       "Tristaniopsis laurina :: Swamp Myrtle                                  7404\n",
       "                                                                      ...  \n",
       "Geijera spp :: Geijera                                                    1\n",
       "Prunus sargentii :: Sargent Cherry                                        1\n",
       "Liquidambar styraciflua 'Slender Silhoutte' :: Upright Liquidambar        1\n",
       "Sorbus aucuparia :: European Mountain Ash Tr                              1\n",
       "Prunus persica nectarina :: Flowering Nectarine Tree                      1\n",
       "Name: qSpecies, Length: 576, dtype: int64"
      ]
     },
     "execution_count": 38,
     "metadata": {},
     "output_type": "execute_result"
    }
   ],
   "source": [
    "data.head()\n",
    "# data.PlantType == 'Tree'\n",
    "data.qSpecies.value_counts()"
   ]
  },
  {
   "cell_type": "markdown",
   "id": "60871367",
   "metadata": {},
   "source": [
    "What are the various formats for dimensions`"
   ]
  },
  {
   "cell_type": "code",
   "execution_count": 41,
   "id": "b7b2b872",
   "metadata": {},
   "outputs": [
    {
     "data": {
      "text/plain": [
       "TreeID                         int64\n",
       "qLegalStatus                  object\n",
       "qSpecies                      object\n",
       "qAddress                      object\n",
       "SiteOrder                    float64\n",
       "qSiteInfo                     object\n",
       "PlantType                     object\n",
       "qCaretaker                    object\n",
       "qCareAssistant                object\n",
       "PlantDate                     object\n",
       "DBH                          float64\n",
       "PlotSize                      object\n",
       "PermitNotes                   object\n",
       "XCoord                       float64\n",
       "YCoord                       float64\n",
       "Latitude                     float64\n",
       "Longitude                    float64\n",
       "Location                      object\n",
       "Fire Prevention Districts    float64\n",
       "Police Districts             float64\n",
       "Supervisor Districts         float64\n",
       "Zip Codes                    float64\n",
       "Neighborhoods (old)          float64\n",
       "dtype: object"
      ]
     },
     "execution_count": 41,
     "metadata": {},
     "output_type": "execute_result"
    }
   ],
   "source": [
    "data.dtypes"
   ]
  },
  {
   "cell_type": "code",
   "execution_count": 43,
   "id": "8bf26c07",
   "metadata": {},
   "outputs": [
    {
     "data": {
      "text/plain": [
       "Sidewalk: Curb side : Cutout         154317\n",
       "Sidewalk: Property side : Yard        11134\n",
       "Sidewalk: Curb side : Yard             9217\n",
       ":                                      4954\n",
       "Median : Cutout                        4916\n",
       "Front Yard : Yard                      3316\n",
       "Median : Yard                          1730\n",
       "Sidewalk: Curb side : Pot              1699\n",
       "Sidewalk: Property side : Cutout       1513\n",
       "Side Yard : Yard                        921\n",
       "Back Yard : Yard                        652\n",
       "unknown : Yard                          313\n",
       "Unaccepted Street : Yard                293\n",
       "Front Yard : Cutout                     286\n",
       ": Yard                                  175\n",
       "Back Yard : Cutout                       67\n",
       "Unaccepted Street : Cutout               64\n",
       "Side Yard : Cutout                       45\n",
       "Sidewalk: Curb side :                    36\n",
       "Median :                                 35\n",
       "Sidewalk: Property side : Pot            28\n",
       "Front Yard :                             16\n",
       "Sidewalk: Property side :                11\n",
       ": Cutout                                 10\n",
       "Front Yard : Pot                          5\n",
       "unknown : Cutout                          4\n",
       "Sidewalk: Curb side : Hanging Pot         3\n",
       "Unaccepted Street : Pot                   1\n",
       "Hanging basket : Cutout                   1\n",
       "Hanging basket : Yard                     1\n",
       "unknown : Pot                             1\n",
       "Median : Hanging Pot                      1\n",
       "Name: qSiteInfo, dtype: int64"
      ]
     },
     "execution_count": 43,
     "metadata": {},
     "output_type": "execute_result"
    }
   ],
   "source": [
    "data['qSiteInfo'].value_counts()"
   ]
  },
  {
   "cell_type": "markdown",
   "id": "ebaddc19",
   "metadata": {},
   "source": [
    "Which is more popular for the caretaker– Private or Department of Public Works?"
   ]
  },
  {
   "cell_type": "code",
   "execution_count": 62,
   "id": "195140ab",
   "metadata": {},
   "outputs": [
    {
     "data": {
      "text/plain": [
       "('Private', {164075}, 'is the more popular caretaker')"
      ]
     },
     "execution_count": 62,
     "metadata": {},
     "output_type": "execute_result"
    }
   ],
   "source": [
    "DPW = len(data[data['qCaretaker'].str.contains('DPW')])\n",
    "Private = len(data[data['qCaretaker'].str.contains('Private')])\n",
    "\n",
    "def dpw_or_private():\n",
    "    if DPW > Private:\n",
    "        return 'DPW',{DPW},'is the more popular caretake'\n",
    "    elif DPW == Private:\n",
    "        return 'Both were used the same this year'\n",
    "    else: \n",
    "        return 'Private',{Private},'is the more popular caretaker'\n",
    "dpw_or_private()"
   ]
  }
 ],
 "metadata": {
  "kernelspec": {
   "display_name": "Python 3 (ipykernel)",
   "language": "python",
   "name": "python3"
  },
  "language_info": {
   "codemirror_mode": {
    "name": "ipython",
    "version": 3
   },
   "file_extension": ".py",
   "mimetype": "text/x-python",
   "name": "python",
   "nbconvert_exporter": "python",
   "pygments_lexer": "ipython3",
   "version": "3.9.9"
  }
 },
 "nbformat": 4,
 "nbformat_minor": 5
}
